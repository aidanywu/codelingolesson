{
 "cells": [
  {
   "attachments": {},
   "cell_type": "markdown",
   "metadata": {},
   "source": [
    "# ArrayList\n",
    "- toc: false\n",
    "- badges: true\n",
    "- categories: [cb]\n",
    "- author: Codelingo"
   ]
  },
  {
   "attachments": {},
   "cell_type": "markdown",
   "metadata": {},
   "source": [
    "## What are ArrayLists?\n",
    "An ArrayList is a collection that stores objects. To create an ArrayList, declare a variable with a data type of ArrayList, and point it to a new ArrayList object. The initial size of an ArrayList is zero. The size of an ArrayList depends on the methods called.\n",
    "\n",
    "Creating an Arraylist:\n",
    "ArrayList<type> nameofarraylist= new ArrayList<type>();"
   ]
  },
  {
   "cell_type": "code",
   "execution_count": 1,
   "metadata": {
    "vscode": {
     "languageId": "java"
    }
   },
   "outputs": [],
   "source": [
    "ArrayList<Integer> list = new ArrayList<Integer>();"
   ]
  },
  {
   "attachments": {},
   "cell_type": "markdown",
   "metadata": {},
   "source": [
    "# Useful Arraylist Methods\n",
    "The following are commonly used methods for ArrayList:"
   ]
  },
  {
   "cell_type": "code",
   "execution_count": null,
   "metadata": {
    "vscode": {
     "languageId": "java"
    }
   },
   "outputs": [],
   "source": [
    "arrayList.add(element);\n",
    "arrayList.add(index, element);\n",
    "arrayList.set(index, element);\n",
    "arrayList.remove(index);\n",
    "arrayList.get(index);"
   ]
  },
  {
   "attachments": {},
   "cell_type": "markdown",
   "metadata": {},
   "source": [
    "## Arraylist Hacks:\n",
    "Explain what the following code does."
   ]
  },
  {
   "cell_type": "code",
   "execution_count": 3,
   "metadata": {
    "vscode": {
     "languageId": "java"
    }
   },
   "outputs": [
    {
     "data": {
      "text/plain": [
       "Harry"
      ]
     },
     "execution_count": 3,
     "metadata": {},
     "output_type": "execute_result"
    }
   ],
   "source": [
    "ArrayList<String> staff = new ArrayList<String>();\n",
    "staff.add(\"Tom\");\n",
    "staff.add(\"Diana\");\n",
    "staff.add(\"Harry\");\n",
    "staff.set(1,\"Bobby\");\n",
    "staff.remove(1);\n",
    "staff.add(\"Romeo\");\n",
    "staff.remove(2);\n",
    "staff.add(\"Juliet\");\n",
    "staff.get(1);"
   ]
  },
  {
   "attachments": {},
   "cell_type": "markdown",
   "metadata": {},
   "source": [
    "## Homework\n",
    "- Complete the hack on each lesson and submit your cloned repository to the Google Form that will be linked\n",
    "- Complete the quizzes on Recursion, Heap Sort, and Arraylists on our [website](https://lwu1822.github.io/tri3frontend/templates/sorts.html)\n",
    "  - Please create an account with information that we can identify you with\n",
    "  - Please only do the mc starting on Saturday"
   ]
  }
 ],
 "metadata": {
  "kernelspec": {
   "display_name": "Java",
   "language": "java",
   "name": "java"
  },
  "language_info": {
   "codemirror_mode": "java",
   "file_extension": ".jshell",
   "mimetype": "text/x-java-source",
   "name": "Java",
   "pygments_lexer": "java",
   "version": "11.0.17+8-post-Ubuntu-1ubuntu220.04"
  },
  "orig_nbformat": 4
 },
 "nbformat": 4,
 "nbformat_minor": 2
}
