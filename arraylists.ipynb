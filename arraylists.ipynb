{
 "cells": [
  {
   "attachments": {},
   "cell_type": "markdown",
   "metadata": {},
   "source": [
    "# ArrayList\n",
    "- toc: false\n",
    "- badges: true\n",
    "- categories: [cb]\n",
    "- author: Codelingo"
   ]
  },
  {
   "attachments": {},
   "cell_type": "markdown",
   "metadata": {},
   "source": [
    "## What are ArrayLists?\n",
    "An ArrayList is a collection that stores objects. To create an ArrayList, declare a variable with a data type of ArrayList, and point it to a new ArrayList object. The initial size of an ArrayList is zero. The size of an ArrayList depends on the methods called.\n",
    "\n",
    "Creating an Arraylist:\n",
    "ArrayList<type> nameofarraylist= new ArrayList<type>();"
   ]
  },
  {
   "cell_type": "code",
   "execution_count": 1,
   "metadata": {},
   "outputs": [],
   "source": [
    "ArrayList<Integer> list = new ArrayList<Integer>();"
   ]
  },
  {
   "attachments": {},
   "cell_type": "markdown",
   "metadata": {},
   "source": [
    "# Useful Arraylist Methods\n",
    "The following are commonly used methods for ArrayList:"
   ]
  },
  {
   "cell_type": "code",
   "execution_count": null,
   "metadata": {},
   "outputs": [],
   "source": [
    "arrayList.add(element);\n",
    "arrayList.add(index, element);\n",
    "arrayList.set(index, element);\n",
    "arrayList.remove(index);\n",
    "arrayList.get(index);\n",
    "arrayList.size();"
   ]
  },
  {
   "attachments": {},
   "cell_type": "markdown",
   "metadata": {},
   "source": [
    "# Iterating through an Arraylist"
   ]
  },
  {
   "cell_type": "code",
   "execution_count": 1,
   "metadata": {},
   "outputs": [
    {
     "name": "stdout",
     "output_type": "stream",
     "text": [
      "1\n",
      "2\n",
      "3\n",
      "4\n",
      "5\n"
     ]
    }
   ],
   "source": [
    "// Using an enhanced for loop\n",
    "ArrayList<Integer> list = new ArrayList<Integer>();\n",
    "list.add(1);\n",
    "list.add(2);\n",
    "list.add(3);\n",
    "list.add(4);\n",
    "list.add(5);\n",
    "for (Integer element: list) {\n",
    "    System.out.println(element);\n",
    "}"
   ]
  },
  {
   "cell_type": "code",
   "execution_count": 5,
   "metadata": {},
   "outputs": [
    {
     "name": "stdout",
     "output_type": "stream",
     "text": [
      "1\n",
      "2\n",
      "3\n",
      "4\n",
      "5\n"
     ]
    }
   ],
   "source": [
    "// Using a for loop\n",
    "for (int i = 0; i < list.size(); i++) {\n",
    "    System.out.println(list.get(i));\n",
    "}"
   ]
  },
  {
   "attachments": {},
   "cell_type": "markdown",
   "metadata": {},
   "source": [
    "## Arraylist Hacks:\n",
    "Choose one of these options to do. Doing another option will be extra credit\n",
    "- Test if two arraylists contain the same elements in reverse order\n",
    "- Overwrite all the elements in an arraylist with the alphabet\n",
    "- Remove every other element from an arraylist"
   ]
  }
 ],
 "metadata": {
  "kernelspec": {
   "display_name": "Java",
   "language": "java",
   "name": "java"
  },
  "language_info": {
   "codemirror_mode": "java",
   "file_extension": ".jshell",
   "mimetype": "text/x-java-source",
   "name": "java",
   "pygments_lexer": "java",
   "version": "11.0.17+8-post-Ubuntu-1ubuntu220.04"
  },
  "orig_nbformat": 4
 },
 "nbformat": 4,
 "nbformat_minor": 2
}
