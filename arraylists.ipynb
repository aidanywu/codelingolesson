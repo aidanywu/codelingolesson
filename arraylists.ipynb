{
 "cells": [
  {
   "attachments": {},
   "cell_type": "markdown",
   "metadata": {},
   "source": [
    "# ArrayList\n",
    "- toc: false\n",
    "- badges: true\n",
    "- categories: [cb]\n",
    "- author: Codelingo"
   ]
  },
  {
   "attachments": {},
   "cell_type": "markdown",
   "metadata": {},
   "source": [
    "## What are ArrayLists?\n",
    "An ArrayList is a collection that stores objects. To create an ArrayList, declare a variable with a data type of ArrayList, and point it to a new ArrayList object. The initial size of an ArrayList is zero. The size of an ArrayList depends on the methods called.\n",
    "\n",
    "Creating an Arraylist:\n",
    "ArrayList<type> nameofarraylist= new ArrayList<type>();"
   ]
  },
  {
   "cell_type": "code",
   "execution_count": 1,
   "metadata": {
    "vscode": {
     "languageId": "java"
    }
   },
   "outputs": [],
   "source": [
    "ArrayList<Integer> list = new ArrayList<Integer>();"
   ]
  },
  {
   "attachments": {},
   "cell_type": "markdown",
   "metadata": {},
   "source": [
    "# Useful Arraylist Methods\n",
    "The following are commonly used methods for ArrayList:"
   ]
  },
  {
   "cell_type": "code",
   "execution_count": null,
   "metadata": {
    "vscode": {
     "languageId": "java"
    }
   },
   "outputs": [],
   "source": [
    "arrayList.add(element);\n",
    "arrayList.add(index, element);\n",
    "arrayList.set(index, element);\n",
    "arrayList.remove(index);\n",
    "arrayList.get(index);"
   ]
  },
  {
   "attachments": {},
   "cell_type": "markdown",
   "metadata": {},
   "source": [
    "## Arraylist Hacks:\n",
    "Choose one of these options to do. Doing another option will be extra credit\n",
    "- Test if two arraylists contain the same elements in reverse order\n",
    "- Overwrite all the elements in an arraylist with the alphabet\n",
    "- Remove every other element from an arraylist"
   ]
  },
  {
   "attachments": {},
   "cell_type": "markdown",
   "metadata": {},
   "source": [
    "## Summarized Homework\n",
    "- Complete the hack on each lesson anywhere like a jupyter notebook that can be submitted to the Google Form that will be linked\n",
    "- Complete the quizzes on Recursion, Heap Sort, and Arraylists on our [website](https://lwu1822.github.io/tri3frontend/templates/sorts.html)\n",
    "  - Please create an account with information that we can identify you with\n",
    "  - Please only do the mc starting on Saturday\n",
    "Scoring:\n",
    "- Recursion hack 0.9 pts\n",
    "- Heap Sort hack 0.9 pts\n",
    "- Arraylist hack 0.9 pts\n",
    "- Arraylist extra hack 0.3 pts"
   ]
  }
 ],
 "metadata": {
  "kernelspec": {
   "display_name": "Java",
   "language": "java",
   "name": "java"
  },
  "language_info": {
   "codemirror_mode": "java",
   "file_extension": ".jshell",
   "mimetype": "text/x-java-source",
   "name": "Java",
   "pygments_lexer": "java",
   "version": "11.0.17+8-post-Ubuntu-1ubuntu220.04"
  },
  "orig_nbformat": 4
 },
 "nbformat": 4,
 "nbformat_minor": 2
}
