{
 "cells": [
  {
   "attachments": {},
   "cell_type": "markdown",
   "metadata": {},
   "source": [
    "# Sorting\n",
    "- toc: false\n",
    "- badges: true\n",
    "- categories: [cb]\n",
    "- author: Codelingo"
   ]
  },
  {
   "attachments": {},
   "cell_type": "markdown",
   "metadata": {},
   "source": [
    "## Insertion Sort\n",
    "A simple sorting algorithm that works similar to the way you sort playing cards in your hands. The array is virtually split into a sorted and an unsorted part. Values from the unsorted part are picked and placed at the correct position in the sorted part."
   ]
  },
  {
   "attachments": {},
   "cell_type": "markdown",
   "metadata": {},
   "source": [
    "## Selection Sort\n",
    "The algorithm repeatedly selects the min (or max) element from the unsorted part of the list and swaps it with the first element of the unsorted part until the entire list is sorted. The algorithm maintains two subarrays in a given array: the subarray which already sorted and the remaining subarray was unsorted. In every iteration of the selection sort, the min element is picked and moved to the beginning of the sorted subarray. After every iteration sorted subarray size increase by one and the unsorted subarray size decrease by one."
   ]
  },
  {
   "attachments": {},
   "cell_type": "markdown",
   "metadata": {},
   "source": [
    "## Heap Sort\n",
    "Heap Sort is a comparison-based sorting technique based on Binary Heap data structure. It is similar to the selection sort where we first find the minimum element and place the minimum element at the beginning. Repeat the same process for the remaining elements. This algorithm uses the function heapSort() to construct the max heap initially for use. Once done, every root element is extracted and sent to the end of the array. The root is again extracted and sent to the end of the array, repeating again. The sort also uses the function heapify() to determine the maximum from the element being examined as the root and its two children. If the maximum is among the children of the root, the root and its child are swapped. When the maximum element in the array is found the function stops.\n",
    "\n",
    "Example of heap sort implementation from GeekforGeeks:"
   ]
  },
  {
   "cell_type": "code",
   "execution_count": 1,
   "metadata": {
    "vscode": {
     "languageId": "java"
    }
   },
   "outputs": [
    {
     "name": "stdout",
     "output_type": "stream",
     "text": [
      "Sorted array is\n",
      "5 6 7 11 12 13 \n"
     ]
    }
   ],
   "source": [
    "// Java program for implementation of Heap Sort\n",
    "public class HeapSort {\n",
    "    public void sort(int arr[])\n",
    "    {\n",
    "        int n = arr.length;\n",
    " \n",
    "        // Build heap (rearrange array)\n",
    "        for (int i = n / 2 - 1; i >= 0; i--)\n",
    "            heapify(arr, n, i);\n",
    " \n",
    "        // One by one extract an element from heap\n",
    "        for (int i = n - 1; i >= 0; i--) {\n",
    "            // Move current root to end\n",
    "            int temp = arr[0];\n",
    "            arr[0] = arr[i];\n",
    "            arr[i] = temp;\n",
    " \n",
    "            // call max heapify on the reduced heap\n",
    "            heapify(arr, i, 0);\n",
    "        }\n",
    "    }\n",
    " \n",
    "    // To heapify a subtree rooted with node i which is\n",
    "    // an index in arr[]. n is size of heap\n",
    "    void heapify(int arr[], int n, int i)\n",
    "    {\n",
    "        int largest = i; // Initialize largest as root\n",
    "        int l = 2 * i + 1; // left = 2*i + 1\n",
    "        int r = 2 * i + 2; // right = 2*i + 2\n",
    " \n",
    "        // If left child is larger than root\n",
    "        if (l < n && arr[l] > arr[largest])\n",
    "            largest = l;\n",
    " \n",
    "        // If right child is larger than largest so far\n",
    "        if (r < n && arr[r] > arr[largest])\n",
    "            largest = r;\n",
    " \n",
    "        // If largest is not root\n",
    "        if (largest != i) {\n",
    "            int swap = arr[i];\n",
    "            arr[i] = arr[largest];\n",
    "            arr[largest] = swap;\n",
    " \n",
    "            // Recursively heapify the affected sub-tree\n",
    "            heapify(arr, n, largest);\n",
    "        }\n",
    "    }\n",
    " \n",
    "    /* A utility function to print array of size n */\n",
    "    static void printArray(int arr[])\n",
    "    {\n",
    "        int n = arr.length;\n",
    "        for (int i = 0; i < n; ++i)\n",
    "            System.out.print(arr[i] + \" \");\n",
    "        System.out.println();\n",
    "    }\n",
    " \n",
    "    // Driver program\n",
    "    public static void main(String args[])\n",
    "    {\n",
    "        int arr[] = { 12, 11, 13, 5, 6, 7 };\n",
    "        int n = arr.length;\n",
    " \n",
    "        HeapSort ob = new HeapSort();\n",
    "        ob.sort(arr);\n",
    " \n",
    "        System.out.println(\"Sorted array is\");\n",
    "        printArray(arr);\n",
    "    }\n",
    "}\n",
    "HeapSort.main(null);"
   ]
  },
  {
   "attachments": {},
   "cell_type": "markdown",
   "metadata": {},
   "source": [
    "## Sorting Hack: \n",
    "Write a insertion or selection sort program that sorts an ArrayList<Country> in decreasing order so that the largest country is at the beginning of the array (Create your own Country class with size). Use a Comparator.\n",
    "### Bonus Hack:\n",
    "Use heap sort to do the above"
   ]
  }
 ],
 "metadata": {
  "kernelspec": {
   "display_name": "Java",
   "language": "java",
   "name": "java"
  },
  "language_info": {
   "codemirror_mode": "java",
   "file_extension": ".jshell",
   "mimetype": "text/x-java-source",
   "name": "Java",
   "pygments_lexer": "java",
   "version": "11.0.17+8-post-Ubuntu-1ubuntu220.04"
  },
  "orig_nbformat": 4
 },
 "nbformat": 4,
 "nbformat_minor": 2
}
